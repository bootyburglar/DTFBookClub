{
 "cells": [
  {
   "cell_type": "code",
   "execution_count": 7,
   "id": "7b35fc21",
   "metadata": {},
   "outputs": [],
   "source": [
    "# 第一題 O(n**2)\n",
    "#根據身高和體重計算BMI(表示肥胖程度的體格指數)的函式\n",
    "\n",
    "def bmi(height, weight):\n",
    "    #將身高(cm)單位轉換程m\n",
    "    h = height / 100\n",
    "    return weight / (h*h)\n",
    "\n",
    "\n",
    "#因為運算有用到 h * h\n",
    "\n",
    "\n",
    "\n",
    "# 第二題 O(n**2)\n",
    "# 計算圓周率近似值的函式\n",
    "\n",
    "def pi(n):\n",
    "    cnt = 0\n",
    "    for i in range(n):\n",
    "        for j in range(n):\n",
    "            #以畢式定理判斷是否在扇形內部\n",
    "            if i * i + j * j <= n * n:\n",
    "                cnt += 1\n",
    "    return cnt * 4 / (n * n)\n",
    "    \n",
    "#因為算圓周率需要 n*n\n",
    "\n",
    "# 第三題 O(log n)\n",
    "# 計算圓周率近似值的函式\n",
    "# （拍 可以用 4-4/3 + 4/5 - 4/7 + 4/9 - 4/11 + ....的式子計算）\n",
    "\n",
    "def pi(n):\n",
    "    result = 4\n",
    "    plus_minus = -1\n",
    "    for i in range(1, n ):\n",
    "        result += plus_minus * 4 / (i * 2 + 1)\n",
    "        #反轉正負號\n",
    "        plus_minus *= -1\n",
    "    return result     "
   ]
  },
  {
   "cell_type": "code",
   "execution_count": null,
   "id": "2982b03a",
   "metadata": {},
   "outputs": [],
   "source": []
  }
 ],
 "metadata": {
  "kernelspec": {
   "display_name": "Python 3",
   "language": "python",
   "name": "python3"
  },
  "language_info": {
   "codemirror_mode": {
    "name": "ipython",
    "version": 3
   },
   "file_extension": ".py",
   "mimetype": "text/x-python",
   "name": "python",
   "nbconvert_exporter": "python",
   "pygments_lexer": "ipython3",
   "version": "3.7.3"
  }
 },
 "nbformat": 4,
 "nbformat_minor": 5
}
