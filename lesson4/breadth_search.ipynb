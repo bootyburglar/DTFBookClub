{
 "cells": [
  {
   "cell_type": "code",
   "execution_count": 1,
   "id": "f918594f",
   "metadata": {},
   "outputs": [
    {
     "name": "stdout",
     "output_type": "stream",
     "text": [
      "0 1 2 3 4 5 6 7 8 9 10 11 12 13 14 "
     ]
    }
   ],
   "source": [
    "tree = [[1, 2],[3, 4], [5, 6], [7, 8], [9, 10], [11, 12], [13, 14], [] ,[] ,[] ,[], [], [], [], []]\n",
    "\n",
    "\n",
    "data = [0]\n",
    "\n",
    "while len(data) > 0:\n",
    "    pos = data.pop(0)  #從前面取出並移除\n",
    "    print(pos, end= ' ')\n",
    "    for i in tree[pos]:\n",
    "        data.append(i)  #加到最後面"
   ]
  },
  {
   "cell_type": "code",
   "execution_count": null,
   "id": "1e72b4db",
   "metadata": {},
   "outputs": [],
   "source": []
  }
 ],
 "metadata": {
  "kernelspec": {
   "display_name": "Python 3",
   "language": "python",
   "name": "python3"
  },
  "language_info": {
   "codemirror_mode": {
    "name": "ipython",
    "version": 3
   },
   "file_extension": ".py",
   "mimetype": "text/x-python",
   "name": "python",
   "nbconvert_exporter": "python",
   "pygments_lexer": "ipython3",
   "version": "3.7.3"
  }
 },
 "nbformat": 4,
 "nbformat_minor": 5
}
