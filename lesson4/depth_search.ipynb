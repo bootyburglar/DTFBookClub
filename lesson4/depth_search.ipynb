{
 "cells": [
  {
   "cell_type": "code",
   "execution_count": 2,
   "id": "edc32f8a",
   "metadata": {},
   "outputs": [
    {
     "name": "stdout",
     "output_type": "stream",
     "text": [
      "0 1 3 7 8 4 9 10 2 5 11 12 6 13 14 "
     ]
    }
   ],
   "source": [
    "#depth_search_01\n",
    "\n",
    "#實作 深度優先搜尋\n",
    "\n",
    "#前序\n",
    "#深度優先搜尋通常使用遞迴來實作\n",
    "\n",
    "tree = [[1, 2],[3, 4], [5, 6], [7, 8], [9, 10], [11, 12], [13, 14], [] ,[] ,[] ,[], [], [], [], []]\n",
    "\n",
    "def search(pos):\n",
    "    print(pos, end=' ')  #查看下屬節點前先輸出\n",
    "    for i in tree[pos]:  #查看下屬節點\n",
    "        search(i)        #遞迴搜尋\n",
    "\n",
    "search(0)\n"
   ]
  },
  {
   "cell_type": "code",
   "execution_count": 3,
   "id": "cf5e7e7f",
   "metadata": {},
   "outputs": [
    {
     "name": "stdout",
     "output_type": "stream",
     "text": [
      "7 8 3 9 10 4 1 11 12 5 13 14 6 2 0 "
     ]
    }
   ],
   "source": [
    "#depth_search_02\n",
    "\n",
    "#實作 深度優先搜尋\n",
    "\n",
    "#後序\n",
    "\n",
    "tree = [[1, 2],[3, 4], [5, 6], [7, 8], [9, 10], [11, 12], [13, 14], [] ,[] ,[] ,[], [], [], [], []]\n",
    "\n",
    "def search(pos):\n",
    "    for i in tree[pos]:  #查看下屬節點\n",
    "        search(i)        #遞迴搜尋\n",
    "    print(pos, end=' ')  #查看下屬節點後先輸出\n",
    "\n",
    "search(0)"
   ]
  },
  {
   "cell_type": "code",
   "execution_count": 14,
   "id": "a34a1efc",
   "metadata": {},
   "outputs": [
    {
     "name": "stdout",
     "output_type": "stream",
     "text": [
      "7 3 8 1 9 4 10 0 11 5 12 2 13 6 14 "
     ]
    }
   ],
   "source": [
    "#depth_search_03\n",
    "\n",
    "#實作 深度優先搜尋\n",
    "\n",
    "#中序\n",
    "\n",
    "tree = [[1, 2],[3, 4], [5, 6], [7, 8], [9, 10], [11, 12], [13, 14], [] ,[] ,[] ,[], [], [], [], []]\n",
    "\n",
    "def search(pos):\n",
    "    if len(tree[pos]) == 2: #2個子節點時\n",
    "        \n",
    "        search(tree[pos][0])\n",
    "        print(pos, end=' ')   #在左節點與又節點之間輸出\n",
    "        search(tree[pos][1])\n",
    "        \n",
    "    elif len(tree[pos]) == 1:\n",
    "        search(tree[pos][0])\n",
    "        print(pos, end=' ')  # 查看過左節點後輸出\n",
    "             \n",
    "    else:                    #沒有下屬節點時\n",
    "        print(pos, end=' ') \n",
    "\n",
    "search(0)"
   ]
  },
  {
   "cell_type": "code",
   "execution_count": 15,
   "id": "f7565d33",
   "metadata": {},
   "outputs": [
    {
     "name": "stdout",
     "output_type": "stream",
     "text": [
      "0 2 6 14 13 5 12 11 1 4 10 9 3 8 7 "
     ]
    }
   ],
   "source": [
    "#depth_search_04\n",
    "\n",
    "#實作 深度優先搜尋\n",
    "\n",
    "#遞迴\n",
    "\n",
    "tree = [[1, 2],[3, 4], [5, 6], [7, 8], [9, 10], [11, 12], [13, 14], [] ,[] ,[] ,[], [], [], [], []]\n",
    "data=[0]\n",
    "\n",
    "while len(data) > 0:\n",
    "    pos = data.pop() #從最後面取出並刪除\n",
    "    print(pos, end=' ')\n",
    "    for i in tree[pos]:\n",
    "        data.append(i)"
   ]
  },
  {
   "cell_type": "code",
   "execution_count": null,
   "id": "7cab173d",
   "metadata": {},
   "outputs": [],
   "source": []
  }
 ],
 "metadata": {
  "kernelspec": {
   "display_name": "Python 3",
   "language": "python",
   "name": "python3"
  },
  "language_info": {
   "codemirror_mode": {
    "name": "ipython",
    "version": 3
   },
   "file_extension": ".py",
   "mimetype": "text/x-python",
   "name": "python",
   "nbconvert_exporter": "python",
   "pygments_lexer": "ipython3",
   "version": "3.7.3"
  }
 },
 "nbformat": 4,
 "nbformat_minor": 5
}
