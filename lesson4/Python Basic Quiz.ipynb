{
 "cells": [
  {
   "cell_type": "markdown",
   "id": "3ad17da3",
   "metadata": {},
   "source": [
    "## 變數 variable\n",
    "任何數據類型或資料類型都可以用變數來代表"
   ]
  },
  {
   "cell_type": "markdown",
   "id": "e9dc8ca2",
   "metadata": {},
   "source": [
    "# 數據類型\n",
    "- 布林   boolean\n",
    "- 整數   int\n",
    "- 浮點數 float\n",
    "- 字串 string\n",
    "## 布林 boolean\n",
    "    布林分為 True 跟 False 通常使用在條件是否成立。\n",
    "## 整數 int ，浮點數 float\n",
    "    用來記錄、運算數字。\n",
    "## 字串string\n",
    "    用來記錄文字資料，可以改變大小寫，擷取裡面的某一段文字，改變裡面的某一段文字"
   ]
  },
  {
   "cell_type": "markdown",
   "id": "db5f4a64",
   "metadata": {},
   "source": [
    "# Quiz\n",
    "1. 定義一個筆電變數 hp_800_g5 500鎂 另一個筆電變數 hp_800_g6 600鎂\n",
    "2. 比較是不是 hp_800_g6 比較貴\n",
    "3. 因為 hp_800_g5 比較便宜，所以買下來但是要加税 0.25鎂\n",
    "4. 但是每天工作只有 10鎂 印出幾天才可以買到"
   ]
  },
  {
   "cell_type": "code",
   "execution_count": 5,
   "id": "c1851bb9",
   "metadata": {},
   "outputs": [
    {
     "name": "stdout",
     "output_type": "stream",
     "text": [
      "True\n",
      "500.25\n",
      "51.0\n"
     ]
    }
   ],
   "source": [
    "hp_800_g5 = 500\n",
    "hp_800_g6 = 600# 定義另一台筆電\n",
    "print(hp_800_g5 < hp_800_g6)# print(g5系列 < g6系列)\n",
    "print(hp_800_g5+0.25)# print(g5稅後的價格)\n",
    "print((hp_800_g5+0.25)//10+1)# print(g5稅後價格除每天) #因為算出來是50.25，我直接後面去除小數點，並給它加一天\n"
   ]
  },
  {
   "cell_type": "markdown",
   "id": "b40fe20a",
   "metadata": {},
   "source": [
    "# 資料類型\n",
    "- 串列 list\n",
    "- tuple\n",
    "- 字典 dict"
   ]
  },
  {
   "cell_type": "markdown",
   "id": "cb0a69b2",
   "metadata": {},
   "source": [
    "## 串列 list\n",
    "記錄一連串的資料，可以改變資料的內容。"
   ]
  },
  {
   "cell_type": "code",
   "execution_count": 70,
   "id": "75bf160e",
   "metadata": {},
   "outputs": [],
   "source": [
    "#定義一個 list\n",
    "[1,2,3,4,5]\n",
    "\n",
    "#宣告一個 list\n",
    "a_list = [1,2,3,4,5]"
   ]
  },
  {
   "cell_type": "markdown",
   "id": "54af7912",
   "metadata": {},
   "source": [
    "### 看資料內容"
   ]
  },
  {
   "cell_type": "code",
   "execution_count": 71,
   "id": "3b1bd9f4",
   "metadata": {},
   "outputs": [
    {
     "data": {
      "text/plain": [
       "1"
      ]
     },
     "execution_count": 71,
     "metadata": {},
     "output_type": "execute_result"
    }
   ],
   "source": [
    "#從list裡面取出第0個資料\n",
    "a_list[0]"
   ]
  },
  {
   "cell_type": "code",
   "execution_count": 72,
   "id": "4e991fe8",
   "metadata": {},
   "outputs": [
    {
     "data": {
      "text/plain": [
       "2"
      ]
     },
     "execution_count": 72,
     "metadata": {},
     "output_type": "execute_result"
    }
   ],
   "source": [
    "#從list裡面取出第1個資料\n",
    "a_list[1]"
   ]
  },
  {
   "cell_type": "code",
   "execution_count": 73,
   "id": "218d8386",
   "metadata": {},
   "outputs": [
    {
     "data": {
      "text/plain": [
       "[1, 2, 3, 4]"
      ]
     },
     "execution_count": 73,
     "metadata": {},
     "output_type": "execute_result"
    }
   ],
   "source": [
    "#擷取第0到3的資料\n",
    "a_list[0:4]"
   ]
  },
  {
   "cell_type": "code",
   "execution_count": 74,
   "id": "a2a569f8",
   "metadata": {},
   "outputs": [
    {
     "data": {
      "text/plain": [
       "[1, 3, 5]"
      ]
     },
     "execution_count": 74,
     "metadata": {},
     "output_type": "execute_result"
    }
   ],
   "source": [
    "#隔兩格擷取資料\n",
    "a_list[::2]"
   ]
  },
  {
   "cell_type": "code",
   "execution_count": 75,
   "id": "5434430b",
   "metadata": {},
   "outputs": [
    {
     "data": {
      "text/plain": [
       "[4, 5]"
      ]
     },
     "execution_count": 75,
     "metadata": {},
     "output_type": "execute_result"
    }
   ],
   "source": [
    "#擷取資料第三個以後的資料\n",
    "a_list[3:]\n",
    "#也可以\n",
    "# a_list[3::]"
   ]
  },
  {
   "cell_type": "code",
   "execution_count": 76,
   "id": "8b54abbf",
   "metadata": {},
   "outputs": [
    {
     "data": {
      "text/plain": [
       "[1, 2, 3]"
      ]
     },
     "execution_count": 76,
     "metadata": {},
     "output_type": "execute_result"
    }
   ],
   "source": [
    "#擷取資料第三個以前的資料\n",
    "a_list[:3]\n",
    "#也可以\n",
    "# a_list[:3:]"
   ]
  },
  {
   "cell_type": "markdown",
   "id": "491cb8da",
   "metadata": {},
   "source": [
    "### 更改資料"
   ]
  },
  {
   "cell_type": "code",
   "execution_count": 77,
   "id": "431edb2b",
   "metadata": {},
   "outputs": [
    {
     "name": "stdout",
     "output_type": "stream",
     "text": [
      "[1, 2, 3, 4, 5]\n"
     ]
    },
    {
     "data": {
      "text/plain": [
       "[1, 2, 3, '尛', 5]"
      ]
     },
     "execution_count": 77,
     "metadata": {},
     "output_type": "execute_result"
    }
   ],
   "source": [
    "print(a_list)\n",
    "#更改第3個的資料\n",
    "a_list[3] = '尛'\n",
    "a_list"
   ]
  },
  {
   "cell_type": "markdown",
   "id": "7847f22c",
   "metadata": {},
   "source": [
    "### 新增資料"
   ]
  },
  {
   "cell_type": "code",
   "execution_count": 78,
   "id": "bfe74cfc",
   "metadata": {},
   "outputs": [
    {
     "name": "stdout",
     "output_type": "stream",
     "text": [
      "[1, 2, 3, '尛', 5]\n"
     ]
    },
    {
     "data": {
      "text/plain": [
       "[1, 2, 3, '尛', 5, '拉']"
      ]
     },
     "execution_count": 78,
     "metadata": {},
     "output_type": "execute_result"
    }
   ],
   "source": [
    "print(a_list)\n",
    "#新增到最後面\n",
    "a_list.append('拉')\n",
    "a_list"
   ]
  },
  {
   "cell_type": "code",
   "execution_count": 79,
   "id": "44987ae0",
   "metadata": {},
   "outputs": [
    {
     "name": "stdout",
     "output_type": "stream",
     "text": [
      "[1, 2, 3, '尛', 5, '拉']\n"
     ]
    },
    {
     "data": {
      "text/plain": [
       "[1, 2, 3, 'ㄍㄋㄋ', '尛', 5, '拉']"
      ]
     },
     "execution_count": 79,
     "metadata": {},
     "output_type": "execute_result"
    }
   ],
   "source": [
    "print(a_list)\n",
    "#新增到任何地方第3個位置\n",
    "a_list.insert(3,'ㄍㄋㄋ')\n",
    "a_list"
   ]
  },
  {
   "cell_type": "markdown",
   "id": "c84c12ac",
   "metadata": {},
   "source": [
    "### 刪除資料"
   ]
  },
  {
   "cell_type": "code",
   "execution_count": 80,
   "id": "4264cbc2",
   "metadata": {},
   "outputs": [
    {
     "name": "stdout",
     "output_type": "stream",
     "text": [
      "[1, 2, 3, 'ㄍㄋㄋ', '尛', 5, '拉']\n"
     ]
    },
    {
     "data": {
      "text/plain": [
       "[1, 2, 'ㄍㄋㄋ', '尛', 5, '拉']"
      ]
     },
     "execution_count": 80,
     "metadata": {},
     "output_type": "execute_result"
    }
   ],
   "source": [
    "print(a_list)\n",
    "#刪除第2個\n",
    "del a_list[2]\n",
    "a_list"
   ]
  },
  {
   "cell_type": "markdown",
   "id": "be1f6c9d",
   "metadata": {},
   "source": [
    "## Quiz\n",
    "延續上一個Quiz\n",
    "1. 定義一個 intel_chip 的串列，裡面包含 hp_800_g5 跟 g6 (要做完上面才能定義) 印出來intel_chip的內容\n",
    "2. 新增g8的價格 800\n",
    "3. 插入g7的價格 700\n",
    "4. 因為g7被做太爛 所以降價100\n",
    "5. 因為g7真的太爛了，所以砍掉"
   ]
  },
  {
   "cell_type": "code",
   "execution_count": 12,
   "id": "32cccf0d",
   "metadata": {},
   "outputs": [
    {
     "name": "stdout",
     "output_type": "stream",
     "text": [
      "[500, 600]\n",
      "[500, 600, 800]\n",
      "[500, 600, 700, 800]\n",
      "[500, 600, 600, 800]\n",
      "[500, 600, 800]\n"
     ]
    }
   ],
   "source": [
    "intel_chip=[hp_800_g5,hp_800_g6]\n",
    "print(intel_chip)\n",
    "hp_800_g8=800\n",
    "intel_chip.append(hp_800_g8) #新增g8的價格 800\n",
    "print(intel_chip)\n",
    "hp_700_g7=700\n",
    "intel_chip.insert(2,hp_700_g7) #插入g7的價格 700\n",
    "print(intel_chip)\n",
    "intel_chip[2]=hp_700_g7-100 #因為g7被做太爛 所以降價100\n",
    "print(intel_chip)\n",
    "del intel_chip[2] #因為g7真的太爛了，所以砍掉\n",
    "print(intel_chip)"
   ]
  },
  {
   "cell_type": "markdown",
   "id": "f30dee87",
   "metadata": {},
   "source": [
    "## tuple\n",
    "記錄一連串的資料，無法改變資料的內容，只能取用內容。"
   ]
  },
  {
   "cell_type": "code",
   "execution_count": 43,
   "id": "cdde7b1c",
   "metadata": {},
   "outputs": [],
   "source": [
    "#定義一個tuple\n",
    "(1,2,3)\n",
    "#也可以\n",
    "1,2,3\n",
    "\n",
    "a_tuple = 1,2,3"
   ]
  },
  {
   "cell_type": "code",
   "execution_count": 44,
   "id": "f45c7fd2",
   "metadata": {},
   "outputs": [
    {
     "data": {
      "text/plain": [
       "1"
      ]
     },
     "execution_count": 44,
     "metadata": {},
     "output_type": "execute_result"
    }
   ],
   "source": [
    "#只取出第一個\n",
    "a_tuple[0]"
   ]
  },
  {
   "cell_type": "code",
   "execution_count": 45,
   "id": "d4cb0e03",
   "metadata": {},
   "outputs": [
    {
     "name": "stdout",
     "output_type": "stream",
     "text": [
      "1\n",
      "2\n",
      "3\n"
     ]
    }
   ],
   "source": [
    "#全部取出來\n",
    "a,b,c = a_tuple\n",
    "print(a)\n",
    "print(b)\n",
    "print(c)"
   ]
  },
  {
   "cell_type": "code",
   "execution_count": 46,
   "id": "1efa231e",
   "metadata": {},
   "outputs": [
    {
     "ename": "TypeError",
     "evalue": "'tuple' object does not support item assignment",
     "output_type": "error",
     "traceback": [
      "\u001b[0;31m---------------------------------------------------------------------------\u001b[0m",
      "\u001b[0;31mTypeError\u001b[0m                                 Traceback (most recent call last)",
      "\u001b[0;32m<ipython-input-46-cf0e1ae15f73>\u001b[0m in \u001b[0;36m<module>\u001b[0;34m\u001b[0m\n\u001b[1;32m      1\u001b[0m \u001b[0;31m#不能改變\u001b[0m\u001b[0;34m\u001b[0m\u001b[0;34m\u001b[0m\u001b[0;34m\u001b[0m\u001b[0m\n\u001b[0;32m----> 2\u001b[0;31m \u001b[0ma_tuple\u001b[0m\u001b[0;34m[\u001b[0m\u001b[0;36m0\u001b[0m\u001b[0;34m]\u001b[0m\u001b[0;34m=\u001b[0m\u001b[0;34m'尛'\u001b[0m\u001b[0;34m\u001b[0m\u001b[0;34m\u001b[0m\u001b[0m\n\u001b[0m",
      "\u001b[0;31mTypeError\u001b[0m: 'tuple' object does not support item assignment"
     ]
    }
   ],
   "source": [
    "#不能改變\n",
    "a_tuple[0]='尛'"
   ]
  },
  {
   "cell_type": "markdown",
   "id": "976da388",
   "metadata": {},
   "source": [
    "## 字典 dict\n",
    "記錄一連串的資料，可以改變資料的內容，並增加一個可以代表內容的索引"
   ]
  },
  {
   "cell_type": "code",
   "execution_count": null,
   "id": "aaef534f",
   "metadata": {},
   "outputs": [],
   "source": [
    "#定義一個dict\n",
    "#前面他的名字，後面他的內容，內容可以是 int dict list .... 各種形式，但名字只能一個，不能重複。\n",
    "{\"HP_800_G3\":200,\"HP_800_G4\":300}  \n",
    "a={\"intel_chip\":['tiger lake','elder lake']}\n",
    "a = dict() #建立空的dict"
   ]
  },
  {
   "cell_type": "markdown",
   "id": "b64a2252",
   "metadata": {},
   "source": [
    "### 新增、修改資料"
   ]
  },
  {
   "cell_type": "code",
   "execution_count": 14,
   "id": "ec209440",
   "metadata": {},
   "outputs": [
    {
     "name": "stdout",
     "output_type": "stream",
     "text": [
      "{'HP_800_G3': 200, 'HP_800_G4': 300}  <-- 原本的\n",
      "{'HP_800_G3': 200, 'HP_800_G4': 300, 'HP_800_G5': 400}  <-- 增加 G5的資料\n",
      "{'HP_800_G3': 200, 'HP_800_G4': 300, 'HP_800_G5': 500}  <-- 修改 G5的資料\n",
      "{'HP_800_G3': 200, 'HP_800_G4': 300, 'HP_800_G5': 500, 'HP_800_G6': 500}  <-- 增加 G6的資料\n",
      "{'HP_800_G3': 200, 'HP_800_G4': 300, 'HP_800_G5': 500, 'HP_800_G6': 700}  <-- 修改 G6的資料\n"
     ]
    }
   ],
   "source": [
    "HP_Products = {\"HP_800_G3\":200,\"HP_800_G4\":300}\n",
    "print(HP_Products,' <-- 原本的')\n",
    "HP_Products.update({\"HP_800_G5\":400})\n",
    "print(HP_Products,' <-- 增加 G5的資料')\n",
    "HP_Products.update({\"HP_800_G5\":500})\n",
    "print(HP_Products, ' <-- 修改 G5的資料')\n",
    "# 或是\n",
    "HP_Products[\"HP_800_G6\"] = 500\n",
    "print(HP_Products,' <-- 增加 G6的資料')\n",
    "HP_Products[\"HP_800_G6\"] = 700\n",
    "print(HP_Products, ' <-- 修改 G6的資料')"
   ]
  },
  {
   "cell_type": "markdown",
   "id": "279809c0",
   "metadata": {},
   "source": [
    "### 確認資料有沒有在裡面"
   ]
  },
  {
   "cell_type": "code",
   "execution_count": 7,
   "id": "b7cd4b92",
   "metadata": {},
   "outputs": [
    {
     "data": {
      "text/plain": [
       "True"
      ]
     },
     "execution_count": 7,
     "metadata": {},
     "output_type": "execute_result"
    }
   ],
   "source": [
    "'HP_800_G6' in HP_Products"
   ]
  },
  {
   "cell_type": "markdown",
   "id": "2bda0999",
   "metadata": {},
   "source": [
    "### 取得一個資料的內容"
   ]
  },
  {
   "cell_type": "code",
   "execution_count": 8,
   "id": "d5192d1d",
   "metadata": {},
   "outputs": [
    {
     "name": "stdout",
     "output_type": "stream",
     "text": [
      "700\n"
     ]
    }
   ],
   "source": [
    "print(HP_Products['HP_800_G6'])\n",
    "print(HP_Products.get('HP_800_G6',None)) # None是如果沒有HP_800_G6這個資料的話 則選擇None"
   ]
  },
  {
   "cell_type": "code",
   "execution_count": null,
   "id": "e1f4016e",
   "metadata": {},
   "outputs": [],
   "source": []
  },
  {
   "cell_type": "markdown",
   "id": "13f1592f",
   "metadata": {},
   "source": [
    "### 查看所有資料的名字"
   ]
  },
  {
   "cell_type": "code",
   "execution_count": 9,
   "id": "25aa9508",
   "metadata": {},
   "outputs": [
    {
     "data": {
      "text/plain": [
       "dict_keys(['HP_800_G3', 'HP_800_G4', 'HP_800_G5', 'HP_800_G6'])"
      ]
     },
     "execution_count": 9,
     "metadata": {},
     "output_type": "execute_result"
    }
   ],
   "source": [
    "HP_Products.keys()"
   ]
  },
  {
   "cell_type": "markdown",
   "id": "7074d3d2",
   "metadata": {},
   "source": [
    "### 查看所有資料的內容"
   ]
  },
  {
   "cell_type": "code",
   "execution_count": 10,
   "id": "b827357a",
   "metadata": {},
   "outputs": [
    {
     "data": {
      "text/plain": [
       "dict_values([200, 300, 500, 700])"
      ]
     },
     "execution_count": 10,
     "metadata": {},
     "output_type": "execute_result"
    }
   ],
   "source": [
    "HP_Products.values()"
   ]
  },
  {
   "cell_type": "markdown",
   "id": "22325240",
   "metadata": {},
   "source": [
    "### 查看所有資料名字跟內容"
   ]
  },
  {
   "cell_type": "code",
   "execution_count": 11,
   "id": "4809b90a",
   "metadata": {},
   "outputs": [
    {
     "data": {
      "text/plain": [
       "dict_items([('HP_800_G3', 200), ('HP_800_G4', 300), ('HP_800_G5', 500), ('HP_800_G6', 700)])"
      ]
     },
     "execution_count": 11,
     "metadata": {},
     "output_type": "execute_result"
    }
   ],
   "source": [
    "HP_Products.items()"
   ]
  },
  {
   "cell_type": "markdown",
   "id": "01d8a6c4",
   "metadata": {},
   "source": [
    "### 刪除資料"
   ]
  },
  {
   "cell_type": "code",
   "execution_count": 15,
   "id": "b2fc28d1",
   "metadata": {},
   "outputs": [
    {
     "name": "stdout",
     "output_type": "stream",
     "text": [
      "{'HP_800_G3': 200, 'HP_800_G4': 300, 'HP_800_G5': 500}  <-- 刪除了 G6的資料\n",
      "{}  <-- 清除所有資料\n"
     ]
    }
   ],
   "source": [
    "del HP_Products[\"HP_800_G6\"]\n",
    "print(HP_Products, ' <-- 刪除了 G6的資料')\n",
    "HP_Products.clear()\n",
    "print(HP_Products,' <-- 清除所有資料')"
   ]
  },
  {
   "cell_type": "markdown",
   "id": "524b97c9",
   "metadata": {},
   "source": [
    "### Quiz\n",
    "1. 建立空的dict叫 intel_chip \n",
    "2. 加入kaby lake跟comet lake\n",
    "3. kaby lake太爛了，改成baby lake\n",
    "4. baby lake真的太爛了被drop 刪除baby lake\n",
    "5. intel後來被AMD消滅了 整個chip直接被AMD清空"
   ]
  },
  {
   "cell_type": "code",
   "execution_count": 39,
   "id": "5b38a6df",
   "metadata": {},
   "outputs": [
    {
     "name": "stdout",
     "output_type": "stream",
     "text": [
      "{}\n",
      "{'kaby_lake': 0, 'comet_lake': 1}\n",
      "{'comet_lake': 1, 'baby_lake': 2}\n",
      "{'comet_lake': 1}\n",
      "{}\n"
     ]
    }
   ],
   "source": [
    "# Answer\n",
    "intel_chip={}\n",
    "print(intel_chip)\n",
    "intel_chip.update({\"kaby_lake\":0,\"comet_lake\":1})\n",
    "print(intel_chip)\n",
    "del intel_chip[\"kaby_lake\"] #To Tony 之後查有沒有修改名字的寫法\n",
    "intel_chip.update({\"baby_lake\":2})\n",
    "print(intel_chip)\n",
    "del intel_chip[\"baby_lake\"]\n",
    "print(intel_chip)\n",
    "intel_chip.clear() #To Tony 之後查有沒有辦法直接update清空版本 #update dict.clear() 就能清空字典\n",
    "print(intel_chip)"
   ]
  },
  {
   "cell_type": "markdown",
   "id": "00d3ec8d",
   "metadata": {},
   "source": [
    "# 程式流程\n",
    "- if....else\n",
    "- if....elif....else\n",
    "- for loop\n",
    "- while loop"
   ]
  },
  {
   "cell_type": "markdown",
   "id": "2f018ce3",
   "metadata": {},
   "source": [
    "### for loop"
   ]
  },
  {
   "cell_type": "markdown",
   "id": "5421ea51",
   "metadata": {},
   "source": [
    "for loop 可以應用在 list,str,dict,set,tuple,\n",
    "主要是用來一個一個查看裡面的資料"
   ]
  },
  {
   "cell_type": "code",
   "execution_count": 17,
   "id": "0d2a2569",
   "metadata": {},
   "outputs": [
    {
     "name": "stdout",
     "output_type": "stream",
     "text": [
      "BMW\n",
      "Benz\n",
      "Ford\n",
      "Toyota\n",
      "Vlokswagon\n"
     ]
    }
   ],
   "source": [
    "cars = ['BMW','Benz','Ford','Toyota','Vlokswagon']\n",
    "for car in cars: # car 是代表cars裡面內容的變數，只在for裡面有效，for以外會沒有宣告 <- 就是所謂的區域變數，在：裡面有效而已 \n",
    "    print(car)\n"
   ]
  },
  {
   "cell_type": "code",
   "execution_count": 21,
   "id": "d7b84746",
   "metadata": {},
   "outputs": [
    {
     "name": "stdout",
     "output_type": "stream",
     "text": [
      "0\n",
      "1\n",
      "2\n"
     ]
    },
    {
     "data": {
      "text/plain": [
       "range(0, 3)"
      ]
     },
     "execution_count": 21,
     "metadata": {},
     "output_type": "execute_result"
    }
   ],
   "source": [
    "# range 可以把它看成是一個list的產生器\n",
    "# range(3) 就像他會產生出 [0,1,2] 這樣\n",
    "for i in range(3):\n",
    "    print(i)"
   ]
  },
  {
   "cell_type": "markdown",
   "id": "e5760635",
   "metadata": {},
   "source": [
    "# Function\n",
    "當有了變數跟區域變數的觀念，接下來就是function\n",
    "\b"
   ]
  },
  {
   "cell_type": "markdown",
   "id": "07f55041",
   "metadata": {},
   "source": [
    "### 宣告function\n",
    "基本的function宣告：\n",
    "def function的名字():\n",
    "    for...:\n",
    "        if..:\n",
    "        else:\n",
    "    .....\n",
    "    .....\n",
    "\n",
    "有return的就代表他做完function有回傳一個結果：\n",
    "def function的名字() -> str:\n",
    "    for...:\n",
    "        if..:\n",
    "        else:\n",
    "    .....\n",
    "    .....\n",
    "    return 'string'\n",
    "\n",
    "有變數的function宣告：\n",
    "def function的名字(cars:list,broken:bool) -> str:\n",
    "    for.....:\n",
    "        if...:\n",
    "        else:\n",
    "    cars...\n",
    "    broken = True\n",
    "    return 'Car Broken'"
   ]
  },
  {
   "cell_type": "markdown",
   "id": "be71fb98",
   "metadata": {},
   "source": [
    "### Quiz\n",
    "做一個用年份來查詢cpu代號的function，會傳回所給的資料年份列，沒有的話就寫'還沒'\n",
    "你的資料有以下cpu: kaby lake、ice lake、comet lake、alder lake、whisky lake，年份依序2015-2020 (提示用dict)\n",
    "\n",
    "\bfunction格式為:\n",
    "```\n",
    "def intel_cpu(year_list:list)->list:\n",
    "    return_year = None\n",
    "    for year in year_list:\n",
    "        year...\n",
    "        ....\n",
    "    ...\n",
    "    ...\n",
    "    return_year = ......\n",
    "\n",
    "    return return_year\n",
    "```\n"
   ]
  },
  {
   "cell_type": "code",
   "execution_count": 71,
   "id": "9925c5e5",
   "metadata": {},
   "outputs": [
    {
     "data": {
      "text/plain": [
       "[None, 'kaby_lake', 'whisky_lake', 'alder_lake']"
      ]
     },
     "execution_count": 71,
     "metadata": {},
     "output_type": "execute_result"
    }
   ],
   "source": [
    "##題目：希望year_list輸入的年份（value）能跟我的字典（year_dict中的值）作比較，做完比較，裡面有被提及的年份就輸出cpu名稱（key）\n",
    "\n",
    "def intel_cpu(year_list:list)->list:\n",
    "    \n",
    "    year_dict={\"kaby_lake\":2015,\"ice_lake\":2016,\"comet_lake\":2017,\"alder_lake\":2018,\"whisky_lake\":2019}\n",
    "    return_year=[]\n",
    "    #困難點 如何讓輸入的值(value)跟字典中的值作比較？\n",
    "        ##解決的方法，使用dict.items()把key跟value分開，此處的key is str,value is int，此時key and value能拿來作比較，如果\n",
    "        ##不這樣做，原本dict{}無法作運算比較\n",
    "    \n",
    "    #for迴圈可以用來去run dict，但要怎麼樣設計讓它去把輸入值跟dict判斷？\n",
    "        ##設計兩個for迴圈，\n",
    "        ##第一個for迴圈來把輸入的值從list格式拉出來變成單純int，\n",
    "        ##第二層for迴圈把year_dict使用items()分解出key,value兩個變數，這樣key is str,value is int就可以拿來作比較\n",
    "        ##此時就可以比對，比對成功後就print(key)並且跳出迴圈break\n",
    "    \n",
    "    #value 設定成 數字跟文字有什麼差異？\n",
    "    \n",
    "    for input_value in year_list: ##for input_value in year_list(): #輸入端轉變成變成 可以單純一個比較的值 \n",
    "        for key, value in year_dict.items(): \n",
    "    ##for key, value in year_dict.items(): #key is str. key[0]='kaby lake' [1]ice_lake value is int. value[0]=2015\n",
    "    ##    for input_value in year_list:\n",
    "    ##        print('現在要比較的值:',value,'輸入的值:',input_value)\n",
    "            if value == input_value:\n",
    "                ##print(key)\n",
    "                return_year.append(key)\n",
    "                break\n",
    "        else:\n",
    "            return_year.append(None)\n",
    "    return return_year    \n",
    "    \n",
    "      \n",
    "intel_cpu([2014,2015,2019,2018])"
   ]
  },
  {
   "cell_type": "code",
   "execution_count": null,
   "id": "c83fccb9",
   "metadata": {},
   "outputs": [],
   "source": []
  }
 ],
 "metadata": {
  "kernelspec": {
   "display_name": "Python 3",
   "language": "python",
   "name": "python3"
  },
  "language_info": {
   "codemirror_mode": {
    "name": "ipython",
    "version": 3
   },
   "file_extension": ".py",
   "mimetype": "text/x-python",
   "name": "python",
   "nbconvert_exporter": "python",
   "pygments_lexer": "ipython3",
   "version": "3.7.3"
  },
  "metadata": {
   "interpreter": {
    "hash": "b1f375648a22573ec6b457cf40bb1a2cb2c20366735ca08131bfdd9143d97341"
   }
  }
 },
 "nbformat": 4,
 "nbformat_minor": 5
}
