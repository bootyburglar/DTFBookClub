{
 "cells": [
  {
   "cell_type": "code",
   "execution_count": 1,
   "id": "671880ed",
   "metadata": {},
   "outputs": [],
   "source": [
    "def binary_search(data, value):\n",
    "    left = 0             #設定搜尋範圍的左端\n",
    "    right = len(data) -1 #設定搜尋範圍的右端 \n",
    "    while left <= right:\n",
    "        mid = (left + right) //2 #計算搜尋範圍的中央\n",
    "        if data[mid] == value:\n",
    "            #與中央的值相同的時候，回傳其位置\n",
    "            return mid\n",
    "        elif data[mid] < value:\n",
    "            #比中央的值大的話，改變搜尋範圍的左端\n",
    "            left = mid +1\n",
    "        else:\n",
    "            # 比中央的值小的話，改變搜尋範圍的右端\n",
    "            right = mid -1\n",
    "    return -1  #找不到的話，回傳-1\n",
    "\n",
    "#為什麼right要減一\n",
    "#為什麼left在中間要加一\n",
    "#要怎麼用四捨五入"
   ]
  },
  {
   "cell_type": "code",
   "execution_count": 2,
   "id": "59e0e7d2",
   "metadata": {},
   "outputs": [
    {
     "name": "stdout",
     "output_type": "stream",
     "text": [
      "8\n"
     ]
    }
   ],
   "source": [
    "data = [10, 20, 30, 40, 50, 60, 70, 80, 90]\n",
    "print(binary_search(data, 90))"
   ]
  },
  {
   "cell_type": "code",
   "execution_count": 5,
   "id": "7fae1624",
   "metadata": {},
   "outputs": [
    {
     "name": "stdout",
     "output_type": "stream",
     "text": [
      "9\n"
     ]
    }
   ],
   "source": [
    "print(len(data))"
   ]
  },
  {
   "cell_type": "code",
   "execution_count": 10,
   "id": "58e89eff",
   "metadata": {},
   "outputs": [
    {
     "ename": "NameError",
     "evalue": "name 'left' is not defined",
     "output_type": "error",
     "traceback": [
      "\u001b[0;31m---------------------------------------------------------------------------\u001b[0m",
      "\u001b[0;31mNameError\u001b[0m                                 Traceback (most recent call last)",
      "\u001b[0;32m<ipython-input-10-b826df8d5d7c>\u001b[0m in \u001b[0;36m<module>\u001b[0;34m\u001b[0m\n\u001b[0;32m----> 1\u001b[0;31m \u001b[0mtype\u001b[0m\u001b[0;34m(\u001b[0m\u001b[0mleft\u001b[0m\u001b[0;34m)\u001b[0m\u001b[0;34m\u001b[0m\u001b[0;34m\u001b[0m\u001b[0m\n\u001b[0m",
      "\u001b[0;31mNameError\u001b[0m: name 'left' is not defined"
     ]
    }
   ],
   "source": [
    "type(left)"
   ]
  },
  {
   "cell_type": "code",
   "execution_count": null,
   "id": "3cc4dab0",
   "metadata": {},
   "outputs": [],
   "source": []
  }
 ],
 "metadata": {
  "kernelspec": {
   "display_name": "Python 3",
   "language": "python",
   "name": "python3"
  },
  "language_info": {
   "codemirror_mode": {
    "name": "ipython",
    "version": 3
   },
   "file_extension": ".py",
   "mimetype": "text/x-python",
   "name": "python",
   "nbconvert_exporter": "python",
   "pygments_lexer": "ipython3",
   "version": "3.7.3"
  }
 },
 "nbformat": 4,
 "nbformat_minor": 5
}
