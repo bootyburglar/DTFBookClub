{
 "cells": [
  {
   "cell_type": "code",
   "execution_count": 1,
   "id": "11a3642d",
   "metadata": {},
   "outputs": [
    {
     "name": "stdout",
     "output_type": "stream",
     "text": [
      "7\n",
      "13\n",
      "19\n",
      "83\n"
     ]
    }
   ],
   "source": [
    "for x in [7,13,19,83]:\n",
    "    print (x)"
   ]
  },
  {
   "cell_type": "code",
   "execution_count": 2,
   "id": "5a9423ed",
   "metadata": {},
   "outputs": [
    {
     "name": "stdout",
     "output_type": "stream",
     "text": [
      "7\n",
      "13\n",
      "19\n",
      "83\n"
     ]
    }
   ],
   "source": [
    "data_list = [7,13,19,83]\n",
    "for x in data_list:\n",
    "    print(x) "
   ]
  },
  {
   "cell_type": "code",
   "execution_count": 12,
   "id": "c89132fc",
   "metadata": {},
   "outputs": [
    {
     "name": "stdout",
     "output_type": "stream",
     "text": [
      "7\n",
      "13\n",
      "19\n",
      "83\n",
      "12312312312\n"
     ]
    },
    {
     "data": {
      "text/plain": [
       "'HELLO'"
      ]
     },
     "execution_count": 12,
     "metadata": {},
     "output_type": "execute_result"
    }
   ],
   "source": [
    "tamada = [7,13,19,83]\n",
    "asdf = [12312312312]\n",
    "def print_x(data_list: list) -> str:\n",
    "    for x in data_list:\n",
    "        print(x)\n",
    "    return \"HELLO\"\n",
    "        \n",
    "print_x(tamada)\n",
    "print_x(asdf)"
   ]
  },
  {
   "cell_type": "code",
   "execution_count": 16,
   "id": "e4142e7b",
   "metadata": {},
   "outputs": [
    {
     "data": {
      "text/plain": [
       "range(0, 4)"
      ]
     },
     "execution_count": 16,
     "metadata": {},
     "output_type": "execute_result"
    }
   ],
   "source": [
    "pos = 0\n",
    "length = len(tamada)\n",
    "range(0, length)"
   ]
  },
  {
   "cell_type": "code",
   "execution_count": 17,
   "id": "bdd01bb3",
   "metadata": {},
   "outputs": [
    {
     "name": "stdout",
     "output_type": "stream",
     "text": [
      "0\n",
      "1\n",
      "2\n",
      "3\n"
     ]
    }
   ],
   "source": [
    "for pos in range(0, length):\n",
    "    print(pos)"
   ]
  },
  {
   "cell_type": "code",
   "execution_count": 20,
   "id": "64190425",
   "metadata": {},
   "outputs": [
    {
     "name": "stdout",
     "output_type": "stream",
     "text": [
      "7\n",
      "13\n",
      "19\n",
      "83\n"
     ]
    }
   ],
   "source": [
    "for pos in range(0, len(tamada)):\n",
    "    print(tamada[pos])"
   ]
  },
  {
   "cell_type": "code",
   "execution_count": 27,
   "id": "7851d626",
   "metadata": {},
   "outputs": [
    {
     "data": {
      "text/plain": [
       "2"
      ]
     },
     "execution_count": 27,
     "metadata": {},
     "output_type": "execute_result"
    }
   ],
   "source": [
    "def linear_search(data_list: list, value: int) -> int:\n",
    "    for pos in range (0, len(data_list)):\n",
    "        if value == data_list[pos]:\n",
    "            return pos\n",
    "    return -1\n",
    "linear_search([1,2,3,4,6],3)"
   ]
  },
  {
   "cell_type": "code",
   "execution_count": null,
   "id": "6dcd62d1",
   "metadata": {},
   "outputs": [],
   "source": []
  }
 ],
 "metadata": {
  "kernelspec": {
   "display_name": "Python 3",
   "language": "python",
   "name": "python3"
  },
  "language_info": {
   "codemirror_mode": {
    "name": "ipython",
    "version": 3
   },
   "file_extension": ".py",
   "mimetype": "text/x-python",
   "name": "python",
   "nbconvert_exporter": "python",
   "pygments_lexer": "ipython3",
   "version": "3.7.2"
  }
 },
 "nbformat": 4,
 "nbformat_minor": 5
}
