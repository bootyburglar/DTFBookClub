{
 "cells": [
  {
   "cell_type": "code",
   "execution_count": 4,
   "id": "07a932aa",
   "metadata": {},
   "outputs": [
    {
     "name": "stdout",
     "output_type": "stream",
     "text": [
      "7\n"
     ]
    }
   ],
   "source": [
    "#linear_search1\n",
    "\n",
    "data = [50, 30, 90, 10, 20, 70, 60, 40, 80]\n",
    "found = False\n",
    "for i in range(len(data)):\n",
    "    if data[i] == 40:\n",
    "        print(i) #顯示他的位置\n",
    "        found = True\n",
    "        break\n",
    "if not found:\n",
    "    print('Not Found')\n",
    "\n",
    "#答案會是7"
   ]
  },
  {
   "cell_type": "code",
   "execution_count": 10,
   "id": "f9cf4a3a",
   "metadata": {},
   "outputs": [
    {
     "name": "stdout",
     "output_type": "stream",
     "text": [
      "7\n",
      "9\n"
     ]
    }
   ],
   "source": [
    "#linear_search2\n",
    "\n",
    "def linear_search(data, value):  #定義一個函式，在串列中找出某個值的位置\n",
    "    for i in range(len(data)):  #len(data) 統計data總共有幾個數字\n",
    "        if data[i] == value:   #找到所要的值時\n",
    "            return i\n",
    "    return -1   #找不到值時回傳-1\n",
    "\n",
    "data = [50, 30, 90, 10, 20, 70, 60, 40, 80]\n",
    "print(linear_search(data,40))\n",
    "print(len(data))"
   ]
  },
  {
   "cell_type": "code",
   "execution_count": null,
   "id": "608750f1",
   "metadata": {},
   "outputs": [],
   "source": []
  }
 ],
 "metadata": {
  "kernelspec": {
   "display_name": "Python 3",
   "language": "python",
   "name": "python3"
  },
  "language_info": {
   "codemirror_mode": {
    "name": "ipython",
    "version": 3
   },
   "file_extension": ".py",
   "mimetype": "text/x-python",
   "name": "python",
   "nbconvert_exporter": "python",
   "pygments_lexer": "ipython3",
   "version": "3.7.3"
  }
 },
 "nbformat": 4,
 "nbformat_minor": 5
}
