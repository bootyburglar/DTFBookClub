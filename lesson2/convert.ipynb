{
 "cells": [
  {
   "cell_type": "code",
   "execution_count": 1,
   "id": "a3698c91",
   "metadata": {},
   "outputs": [
    {
     "name": "stdout",
     "output_type": "stream",
     "text": [
      "-0b10011\n",
      "0b10000\n",
      "0b11011\n",
      "0b1011\n",
      "0b100100\n",
      "0b110\n"
     ]
    }
   ],
   "source": [
    "# 2.4 轉換基數\n",
    "#目的：了解10進制和2進制之間的轉換\n",
    "#      知道如何實做以及while進行重複\n",
    "#      知道如何建立自己的函式\n",
    "\n",
    "# # convert01 從10進制轉換為2進制\n",
    "# # 這裡的關鍵在已經社好的字串前面附加文字，並且將所得到的商社為下一個被除數\n",
    "\n",
    "\n",
    "# n=18\n",
    "# result= ''\n",
    "# while n > 0 :\n",
    "#     result = str(n % 2) +result  #將餘數加到字串的左側\n",
    "#     n //= 2 #將處以2所得的商再次帶入\n",
    "# print(result)\n",
    "\n",
    "# # convert02\n",
    "# # 為了使它更加通用，來寫個轉換函式，讓我們可以指定基數。有這樣的函式，可以處裡基數2~10的轉換 \n",
    "\n",
    "\n",
    "# n=18\n",
    "\n",
    "# def convert(n, base):\n",
    "#     result = ''\n",
    "\n",
    "#     while n > 0:\n",
    "#         result = str(n % base) + result\n",
    "#         n //= base\n",
    "\n",
    "#     return result\n",
    "\n",
    "# print(convert(n, 2))\n",
    "# print(convert(n, 3))\n",
    "# print(convert(n, 8))\n",
    "\n",
    "# # convert03 從2禁制轉換為10進制\n",
    "# # 說明：首先，for循環使用len函式，使重複次數相當於輸入的字元數。在迴圈之中，要從字串的開頭一次取出一個字元，並且將其乘上基數的次方運算結果。現在我們計算的是2進位術的轉換所以基數為2，因此在計算次方時，i=0時是4次方，i=1時是3次方，i=2時是2次方，以此類推，算出次方的部份\n",
    "\n",
    "\n",
    "# n='10010'\n",
    "\n",
    "# result = 0\n",
    "# for i in range(len(n)):\n",
    "#     result +=int(n[i]) *(2 ** (len(n) - i -1 )) # 第一段int部份 一次取出一個字元 第二部份 len(n) 計算次方部份\n",
    "\n",
    "# print(result)\n",
    "\n",
    "# # convert04 內建使用10轉2進制 （bin函式） 以及2轉10進制 （int函式）\n",
    "# #平常2進制都被視為字串處裡，但是如果在開頭加上0b，則可以將其作為整數型別處裡\n",
    "\n",
    "# a=18\n",
    "# print(bin(a))\n",
    "\n",
    "# b='10010'\n",
    "# print(int(b, 2))\n",
    "\n",
    "\n",
    "#以下有常用的位元運算\n",
    "c= 0b10010\n",
    "print(bin(~c))\n",
    "d=0b11001\n",
    "print(bin( c & d))\n",
    "print(bin( c | d))\n",
    "print(bin( c ^ d))\n",
    "print(bin( c << 1))\n",
    "print(bin( d >> 2))"
   ]
  },
  {
   "cell_type": "code",
   "execution_count": null,
   "id": "90798933",
   "metadata": {},
   "outputs": [],
   "source": []
  }
 ],
 "metadata": {
  "kernelspec": {
   "display_name": "Python 3",
   "language": "python",
   "name": "python3"
  },
  "language_info": {
   "codemirror_mode": {
    "name": "ipython",
    "version": 3
   },
   "file_extension": ".py",
   "mimetype": "text/x-python",
   "name": "python",
   "nbconvert_exporter": "python",
   "pygments_lexer": "ipython3",
   "version": "3.7.3"
  }
 },
 "nbformat": 4,
 "nbformat_minor": 5
}
